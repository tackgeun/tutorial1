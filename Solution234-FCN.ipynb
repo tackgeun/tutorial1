{
 "cells": [
  {
   "cell_type": "markdown",
   "metadata": {},
   "source": [
    "# Practice2 - From Fully-Connected to Fully-Convolutional Networks"
   ]
  },
  {
   "cell_type": "markdown",
   "metadata": {},
   "source": [
    "- Reference code\n",
    "  - https://github.com/bodokaiser/piwise\n",
    "  - https://github.com/wkentaro/pytorch-fcn (pre-trained model included)"
   ]
  },
  {
   "cell_type": "code",
   "execution_count": 1,
   "metadata": {},
   "outputs": [],
   "source": [
    "# libraries for plot\n",
    "import matplotlib.pyplot as plt\n",
    "%matplotlib inline"
   ]
  },
  {
   "cell_type": "code",
   "execution_count": 2,
   "metadata": {},
   "outputs": [],
   "source": [
    "import torch\n",
    "import torch.nn as nn\n",
    "import torch.optim as optim\n",
    "import torchvision.models as models\n",
    "import torch.nn.functional as F"
   ]
  },
  {
   "cell_type": "markdown",
   "metadata": {},
   "source": [
    "### Examine VGG-16 architecture"
   ]
  },
  {
   "cell_type": "code",
   "execution_count": 3,
   "metadata": {},
   "outputs": [
    {
     "data": {
      "text/plain": [
       "Sequential(\n",
       "  (0): Conv2d(3, 64, kernel_size=(3, 3), stride=(1, 1), padding=(1, 1))\n",
       "  (1): ReLU(inplace)\n",
       "  (2): Conv2d(64, 64, kernel_size=(3, 3), stride=(1, 1), padding=(1, 1))\n",
       "  (3): ReLU(inplace)\n",
       "  (4): MaxPool2d(kernel_size=2, stride=2, padding=0, dilation=1, ceil_mode=False)\n",
       "  (5): Conv2d(64, 128, kernel_size=(3, 3), stride=(1, 1), padding=(1, 1))\n",
       "  (6): ReLU(inplace)\n",
       "  (7): Conv2d(128, 128, kernel_size=(3, 3), stride=(1, 1), padding=(1, 1))\n",
       "  (8): ReLU(inplace)\n",
       "  (9): MaxPool2d(kernel_size=2, stride=2, padding=0, dilation=1, ceil_mode=False)\n",
       "  (10): Conv2d(128, 256, kernel_size=(3, 3), stride=(1, 1), padding=(1, 1))\n",
       "  (11): ReLU(inplace)\n",
       "  (12): Conv2d(256, 256, kernel_size=(3, 3), stride=(1, 1), padding=(1, 1))\n",
       "  (13): ReLU(inplace)\n",
       "  (14): Conv2d(256, 256, kernel_size=(3, 3), stride=(1, 1), padding=(1, 1))\n",
       "  (15): ReLU(inplace)\n",
       "  (16): MaxPool2d(kernel_size=2, stride=2, padding=0, dilation=1, ceil_mode=False)\n",
       "  (17): Conv2d(256, 512, kernel_size=(3, 3), stride=(1, 1), padding=(1, 1))\n",
       "  (18): ReLU(inplace)\n",
       "  (19): Conv2d(512, 512, kernel_size=(3, 3), stride=(1, 1), padding=(1, 1))\n",
       "  (20): ReLU(inplace)\n",
       "  (21): Conv2d(512, 512, kernel_size=(3, 3), stride=(1, 1), padding=(1, 1))\n",
       "  (22): ReLU(inplace)\n",
       "  (23): MaxPool2d(kernel_size=2, stride=2, padding=0, dilation=1, ceil_mode=False)\n",
       "  (24): Conv2d(512, 512, kernel_size=(3, 3), stride=(1, 1), padding=(1, 1))\n",
       "  (25): ReLU(inplace)\n",
       "  (26): Conv2d(512, 512, kernel_size=(3, 3), stride=(1, 1), padding=(1, 1))\n",
       "  (27): ReLU(inplace)\n",
       "  (28): Conv2d(512, 512, kernel_size=(3, 3), stride=(1, 1), padding=(1, 1))\n",
       "  (29): ReLU(inplace)\n",
       "  (30): MaxPool2d(kernel_size=2, stride=2, padding=0, dilation=1, ceil_mode=False)\n",
       ")"
      ]
     },
     "execution_count": 3,
     "metadata": {},
     "output_type": "execute_result"
    }
   ],
   "source": [
    "# load VGG16 provided by torchvision\n",
    "vgg16 = models.vgg16(pretrained=True)\n",
    "vgg16.features"
   ]
  },
  {
   "cell_type": "code",
   "execution_count": 4,
   "metadata": {},
   "outputs": [
    {
     "data": {
      "text/plain": [
       "Sequential(\n",
       "  (0): Linear(in_features=25088, out_features=4096, bias=True)\n",
       "  (1): ReLU(inplace)\n",
       "  (2): Dropout(p=0.5)\n",
       "  (3): Linear(in_features=4096, out_features=4096, bias=True)\n",
       "  (4): ReLU(inplace)\n",
       "  (5): Dropout(p=0.5)\n",
       "  (6): Linear(in_features=4096, out_features=1000, bias=True)\n",
       ")"
      ]
     },
     "execution_count": 4,
     "metadata": {},
     "output_type": "execute_result"
    }
   ],
   "source": [
    "vgg16.classifier"
   ]
  },
  {
   "cell_type": "markdown",
   "metadata": {},
   "source": [
    "#### check that VGG16's output from feature layer"
   ]
  },
  {
   "cell_type": "code",
   "execution_count": 5,
   "metadata": {},
   "outputs": [
    {
     "name": "stdout",
     "output_type": "stream",
     "text": [
      "torch.Size([1, 512, 7, 7]) 25088\n"
     ]
    }
   ],
   "source": [
    "feat = vgg16.features.forward(torch.zeros(1,3,224,224))\n",
    "print(feat.size(), 512*7*7)"
   ]
  },
  {
   "cell_type": "markdown",
   "metadata": {},
   "source": [
    "### Exercise 2. implement FCN with VGG-16 network"
   ]
  },
  {
   "cell_type": "markdown",
   "metadata": {},
   "source": [
    "- view function, change tensor into different shape keeping the same number of elements\n",
    "  - https://pytorch.org/docs/stable/tensors.html#torch.Tensor.view"
   ]
  },
  {
   "cell_type": "code",
   "execution_count": 6,
   "metadata": {},
   "outputs": [],
   "source": [
    "class FCN32(nn.Module):\n",
    "    def __init__(self, num_classes=21):\n",
    "        super().__init__()\n",
    "        vgg16 = models.vgg16(pretrained=True)\n",
    "        \n",
    "        self.feats = vgg16.features\n",
    "        \n",
    "        self.fconn = nn.Sequential(\n",
    "            nn.Conv2d(512, 4096, 7, 1, 3),\n",
    "            nn.ReLU(inplace=True),\n",
    "            nn.Dropout(),\n",
    "            nn.Conv2d(4096, 4096, 1),\n",
    "            nn.ReLU(inplace=True),\n",
    "            nn.Dropout(),\n",
    "        )\n",
    "        \n",
    "        # weight copy\n",
    "        self.fconn[0].weight.data = vgg16.classifier[0].weight.view(self.fconn[0].weight.data.size())\n",
    "        self.fconn[3].weight.data = vgg16.classifier[3].weight.view(self.fconn[3].weight.data.size())\n",
    "        \n",
    "        # bias copy\n",
    "        self.fconn[0].bias.data = vgg16.classifier[0].bias.view(self.fconn[0].bias.data.size())\n",
    "        self.fconn[3].bias.data = vgg16.classifier[3].bias.view(self.fconn[3].bias.data.size())\n",
    "        \n",
    "        # new score layer\n",
    "        self.score = nn.Conv2d(4096, num_classes, 1)\n",
    "        \n",
    "    def forward(self, x):\n",
    "        feats = self.feats(x)\n",
    "        #print(feats.size())\n",
    "        fconn = self.fconn(feats)\n",
    "        score = self.score(fconn)\n",
    "        upsample_t = F.upsample(score, scale_factor=32, mode='bilinear', align_corners=True)\n",
    "        return upsample_t"
   ]
  },
  {
   "cell_type": "code",
   "execution_count": 7,
   "metadata": {},
   "outputs": [
    {
     "name": "stderr",
     "output_type": "stream",
     "text": [
      "/home/tackgeun/anaconda3/lib/python3.6/site-packages/torch/nn/functional.py:2351: UserWarning: nn.functional.upsample is deprecated. Use nn.functional.interpolate instead.\n",
      "  warnings.warn(\"nn.functional.upsample is deprecated. Use nn.functional.interpolate instead.\")\n"
     ]
    },
    {
     "data": {
      "text/plain": [
       "torch.Size([1, 21, 512, 512])"
      ]
     },
     "execution_count": 7,
     "metadata": {},
     "output_type": "execute_result"
    }
   ],
   "source": [
    "fcn = FCN32()\n",
    "fcn.forward(torch.zeros(1,3,512,512)).size()"
   ]
  },
  {
   "cell_type": "code",
   "execution_count": 8,
   "metadata": {},
   "outputs": [],
   "source": [
    "import numpy as np\n",
    "import os\n",
    "from PIL import Image\n",
    "from torch.utils.data import Dataset\n",
    "\n",
    "EXTENSIONS = ['.jpg', '.png']\n",
    "\n",
    "def load_image(file):\n",
    "    return Image.open(file)\n",
    "\n",
    "def is_image(filename):\n",
    "    return any(filename.endswith(ext) for ext in EXTENSIONS)\n",
    "\n",
    "def image_path(root, basename, extension):\n",
    "    return os.path.join(root, basename + extension)\n",
    "\n",
    "def image_basename(filename):\n",
    "    return os.path.basename(os.path.splitext(filename)[0])\n",
    "\n",
    "def label_ignore(label, image_size, crop_size):\n",
    "    \n",
    "    label\n",
    "    return label\n",
    "\n",
    "class VOC12(Dataset):\n",
    "    def __init__(self, root, split='train', input_transform=None, target_transform=None, crop_size=512):\n",
    "        self.images_root = os.path.join(root, 'JPEGImages')\n",
    "        self.labels_root = os.path.join(root, 'SegmentationClass')\n",
    "\n",
    "#         self.filenames = [image_basename(f)\n",
    "#             for f in os.listdir(self.labels_root) if is_image(f)]\n",
    "#         self.filenames.sort()\n",
    "        self.filenames = []\n",
    "        with open(os.path.join(root, 'ImageSets', 'Segmentation', '%s.txt' % split)) as f:\n",
    "            for r in f.readlines():\n",
    "                self.filenames.append(r[0:-1])\n",
    "        \n",
    "        self.input_transform = input_transform\n",
    "        self.target_transform = target_transform\n",
    "        self.crop_size = crop_size\n",
    "    def __getitem__(self, index):\n",
    "        filename = self.filenames[index]\n",
    "\n",
    "        with open(image_path(self.images_root, filename, '.jpg'), 'rb') as f:\n",
    "            image = load_image(f).convert('RGB')\n",
    "        with open(image_path(self.labels_root, filename, '.png'), 'rb') as f:\n",
    "            label = load_image(f).convert('P')\n",
    "\n",
    "        if self.input_transform is not None:\n",
    "            image = self.input_transform(image)\n",
    "        if self.target_transform is not None:\n",
    "            label = self.target_transform(label)\n",
    "            \n",
    "        return image, label\n",
    "\n",
    "    def __len__(self):\n",
    "        return len(self.filenames)"
   ]
  },
  {
   "cell_type": "code",
   "execution_count": 9,
   "metadata": {},
   "outputs": [],
   "source": [
    "from torch.utils.data import DataLoader\n",
    "from torchvision.transforms import Compose, CenterCrop, Normalize\n",
    "from torchvision.transforms import ToTensor, ToPILImage\n",
    "import torchvision.transforms.functional as Ftrans\n",
    "import numbers\n",
    "\n",
    "class CenterCropWithIgnore:\n",
    "    def __init__(self, size, ignore):\n",
    "        if isinstance(size, numbers.Number):\n",
    "            self.size = (int(size), int(size))\n",
    "        else:\n",
    "            self.size = size\n",
    "        \n",
    "        self.ignore = int(ignore)\n",
    "\n",
    "    def __call__(self, img):\n",
    "        \"\"\"\n",
    "        Args:\n",
    "            img (PIL Image): Image to be cropped.\n",
    "\n",
    "        Returns:\n",
    "            PIL Image: Cropped image,\n",
    "                       outside of image is filled with ignore label\n",
    "        \"\"\"\n",
    "        return \n",
    "\n",
    "    def __call__(self, image):\n",
    "        # Center Crop\n",
    "        Fimage = Ftrans.center_crop(image, self.size)\n",
    "        \n",
    "        # PIL image to Torch Tensor\n",
    "        label = torch.from_numpy(np.array(Fimage)).long().unsqueeze(0)\n",
    "\n",
    "        # Write ignore label out-of-image region\n",
    "        W, H = Fimage.size\n",
    "        Wimg,Himg = image.size\n",
    "        ys = (H - Himg) // 2\n",
    "        xs = (W - Wimg) // 2\n",
    "        \n",
    "        label[0, 0:ys, 0:] = self.ignore # top\n",
    "        label[0, (H-ys):H, 0:] = self.ignore # bottom\n",
    "        label[0, ys:(H-ys), 0:xs] = self.ignore # left\n",
    "        label[0, ys:(H-ys), (W-xs):W] = self.ignore # left\n",
    "        \n",
    "        return label\n",
    "    \n",
    "input_transform = Compose([ \n",
    "    CenterCrop(512), \n",
    "    ToTensor(), \n",
    "    Normalize([.485, .456, .406], [.229, .224, .225]), \n",
    "])\n",
    "target_transform = CenterCropWithIgnore(512, 255)"
   ]
  },
  {
   "cell_type": "markdown",
   "metadata": {},
   "source": [
    "### Network, optimizer, loss declare"
   ]
  },
  {
   "cell_type": "code",
   "execution_count": 52,
   "metadata": {},
   "outputs": [],
   "source": [
    "net = FCN32()\n",
    "optimizer = optim.Adam(net.parameters(), lr=1e-4)\n",
    "loss_fn = nn.CrossEntropyLoss(ignore_index=255)"
   ]
  },
  {
   "cell_type": "markdown",
   "metadata": {},
   "source": [
    "### Compute mean IU via confusion matrix\n",
    "- PASCAL VOC evaluation code https://github.com/npinto/VOCdevkit/blob/master/VOCcode/VOCevalseg.m"
   ]
  },
  {
   "cell_type": "code",
   "execution_count": 53,
   "metadata": {},
   "outputs": [],
   "source": [
    "def compute_confusion(pred, gt, nc=21):\n",
    "    p = pred.view(-1) # columnize the matrix\n",
    "    g = gt.view(-1)\n",
    "\n",
    "    res = p * nc + g\n",
    "\n",
    "    res[g>20] = -1\n",
    "\n",
    "    val, cnt = np.unique(res.numpy(), return_counts=True)\n",
    "\n",
    "    conf = torch.zeros(nc*nc)\n",
    "    for i in range(1, val.size):\n",
    "        conf[int(val[i])] = int(cnt[i])\n",
    "\n",
    "    conf = conf.view(nc,nc)\n",
    "    \n",
    "    return conf\n",
    "    \n",
    "def compute_meanIU(conf):\n",
    "    r = torch.sum(conf, dim=0)\n",
    "    c = torch.sum(conf, dim=1)\n",
    "    d = torch.zeros(conf.size(0))\n",
    "    \n",
    "    for i in range(0, conf.size(0)):\n",
    "        d[i] = conf[i,i]\n",
    "        \n",
    "    mean = torch.mean(d / (r+c-d))\n",
    "    mean[torch.isnan(mean)] = 0\n",
    "    \n",
    "    return mean"
   ]
  },
  {
   "cell_type": "markdown",
   "metadata": {},
   "source": [
    "### train a single epoch"
   ]
  },
  {
   "cell_type": "code",
   "execution_count": null,
   "metadata": {},
   "outputs": [
    {
     "name": "stderr",
     "output_type": "stream",
     "text": [
      "/home/tackgeun/anaconda3/lib/python3.6/site-packages/torch/nn/functional.py:2351: UserWarning: nn.functional.upsample is deprecated. Use nn.functional.interpolate instead.\n",
      "  warnings.warn(\"nn.functional.upsample is deprecated. Use nn.functional.interpolate instead.\")\n"
     ]
    },
    {
     "name": "stdout",
     "output_type": "stream",
     "text": [
      "[   0/ 147] loss:2.925 meanIU:0.016\n",
      "[  50/ 147] loss:1.034 meanIU:0.125\n"
     ]
    }
   ],
   "source": [
    "gpuid = 0\n",
    "DATAROOT = './VOC2012/'\n",
    "num_classes = 21\n",
    "loader = DataLoader(VOC12(DATAROOT, 'train', input_transform, target_transform),\n",
    "        num_workers=1, batch_size=10, shuffle=True)\n",
    "\n",
    "net.cuda(gpuid)\n",
    "net.train()\n",
    "all_loss = 0\n",
    "all_conf = torch.zeros(num_classes, num_classes)\n",
    "for i, data in enumerate(loader):\n",
    "    image = data[0].cuda(gpuid)\n",
    "    label = data[1].squeeze().cuda(gpuid)\n",
    "    \n",
    "    # write code in below\n",
    "    optimizer.zero_grad()\n",
    "    pred = net.forward(image)\n",
    "    loss = loss_fn(pred, label)\n",
    "    loss.backward()\n",
    "    optimizer.step()\n",
    "    \n",
    "    # training stats\n",
    "    all_loss = all_loss + loss.item()\n",
    "    \n",
    "    val, pred_seg = pred.cpu().max(1)\n",
    "    all_conf = all_conf + compute_confusion(pred_seg, label.cpu())\n",
    "    meaniu = compute_meanIU(all_conf)\n",
    "    \n",
    "    if((i % 50 == 0) or (i == len(loader)-1)):\n",
    "        print(\"[{:4d}/{:4d}] loss:{:.3f} meanIU:{:.3f}\".format(i, len(loader),all_loss/(i+1), meaniu))"
   ]
  },
  {
   "cell_type": "markdown",
   "metadata": {},
   "source": [
    "### test a single epoch"
   ]
  },
  {
   "cell_type": "code",
   "execution_count": 34,
   "metadata": {},
   "outputs": [
    {
     "name": "stderr",
     "output_type": "stream",
     "text": [
      "/home/tackgeun/anaconda3/lib/python3.6/site-packages/torch/nn/functional.py:2351: UserWarning: nn.functional.upsample is deprecated. Use nn.functional.interpolate instead.\n",
      "  warnings.warn(\"nn.functional.upsample is deprecated. Use nn.functional.interpolate instead.\")\n"
     ]
    },
    {
     "name": "stdout",
     "output_type": "stream",
     "text": [
      "[   0/ 145] loss:113.170 meanIU:0.237\n",
      "[  50/ 145] loss:2.219 meanIU:0.276\n",
      "[ 100/ 145] loss:1.120 meanIU:0.301\n",
      "[ 144/ 145] loss:0.780 meanIU:0.311\n"
     ]
    }
   ],
   "source": [
    "DATAROOT = './VOC2012/'\n",
    "loader = DataLoader(VOC12(DATAROOT, 'val', input_transform, target_transform),\n",
    "        num_workers=1, batch_size=10, shuffle=False)\n",
    "\n",
    "net.eval()\n",
    "all_loss_val = 0\n",
    "for i, data in enumerate(loader):\n",
    "    image = data[0].cuda(gpuid)\n",
    "    label = data[1].squeeze().cuda(gpuid)\n",
    "    \n",
    "    pred = net.forward(image)\n",
    "    loss = loss_fn(pred, label)\n",
    "    \n",
    "    all_loss_val = all_loss_val + loss.item()\n",
    "\n",
    "    val, pred_seg = pred.cpu().max(1)\n",
    "    all_conf = all_conf + compute_confusion(pred_seg, label.cpu())\n",
    "    meaniu = compute_meanIU(all_conf)\n",
    "    \n",
    "    if((i % 50 == 0) or (i == len(loader)-1)):\n",
    "        print(\"[{:4d}/{:4d}] loss:{:.3f} meanIU:{:.3f}\".format(i, len(loader),all_loss/(i+1), meaniu))"
   ]
  },
  {
   "cell_type": "markdown",
   "metadata": {},
   "source": [
    "### Visualize results"
   ]
  },
  {
   "cell_type": "markdown",
   "metadata": {},
   "source": [
    "#### code for visualization of segmentation"
   ]
  },
  {
   "cell_type": "code",
   "execution_count": 37,
   "metadata": {},
   "outputs": [],
   "source": [
    "def get_voc_colormap():\n",
    "    N = 256 # number of colormap\n",
    "    VOCcolormap = np.zeros([N, 3], dtype=np.uint8)\n",
    "    for i in range(0, N):\n",
    "        (r,b,g,idx)=(0,0,0,i)\n",
    "        for j in range(0, 8):\n",
    "            r = r | ((idx & 1) << (7 - j))\n",
    "            g = g | ((idx & 2) << (7 - j))\n",
    "            b = b | ((idx & 4) << (7 - j))\n",
    "            idx = idx >> 3\n",
    "        VOCcolormap[i, :] = [r, g >> 1, b >> 2]\n",
    "    return VOCcolormap\n",
    "\n",
    "def return_pascal_segmentation(input_im):\n",
    "    VOCcolormap = get_voc_colormap()\n",
    "    im = Image.fromarray(input_im, mode='P')\n",
    "    im.putpalette(np.reshape(VOCcolormap, 768, 'C'))\n",
    "    return im"
   ]
  },
  {
   "cell_type": "markdown",
   "metadata": {},
   "source": [
    "#### plot code"
   ]
  },
  {
   "cell_type": "code",
   "execution_count": 38,
   "metadata": {},
   "outputs": [
    {
     "name": "stderr",
     "output_type": "stream",
     "text": [
      "Clipping input data to the valid range for imshow with RGB data ([0..1] for floats or [0..255] for integers).\n"
     ]
    },
    {
     "data": {
      "text/plain": [
       "Text(0.5,1,'predicted segmentation')"
      ]
     },
     "execution_count": 38,
     "metadata": {},
     "output_type": "execute_result"
    },
    {
     "data": {
      "image/png": "[encoded data removed]",
      "text/plain": [
       "<Figure size 1080x360 with 3 Axes>"
      ]
     },
     "metadata": {},
     "output_type": "display_data"
    }
   ],
   "source": [
    "im_idx = 0\n",
    "plt.figure(figsize=(15,5))\n",
    "plt.subplot(1,3,1)\n",
    "plt.imshow(data[0][im_idx,:,:,:].permute(1,2,0)) # C x H x W --> H x W x C\n",
    "plt.title('input image with mean subtracted')\n",
    "\n",
    "plt.subplot(1,3,2)\n",
    "plt.imshow(return_pascal_segmentation(data[1][im_idx,0,:,:].numpy().astype(np.uint8)))\n",
    "plt.title('ground truth segmentation')\n",
    "\n",
    "plt.subplot(1,3,3)\n",
    "val, pred_seg = pred.cpu().max(1)\n",
    "plt.imshow(return_pascal_segmentation(pred_seg[im_idx].numpy().astype(np.uint8)))\n",
    "plt.title('predicted segmentation')"
   ]
  },
  {
   "cell_type": "code",
   "execution_count": null,
   "metadata": {},
   "outputs": [],
   "source": []
  }
 ],
 "metadata": {
  "kernelspec": {
   "display_name": "Python 3",
   "language": "python",
   "name": "python3"
  },
  "language_info": {
   "codemirror_mode": {
    "name": "ipython",
    "version": 3
   },
   "file_extension": ".py",
   "mimetype": "text/x-python",
   "name": "python",
   "nbconvert_exporter": "python",
   "pygments_lexer": "ipython3",
   "version": "3.6.4"
  }
 },
 "nbformat": 4,
 "nbformat_minor": 2
}
